{
 "cells": [
  {
   "cell_type": "markdown",
   "metadata": {},
   "source": [
    "# Attributes Selection: Plus 3 Minus 2\n",
    "\n",
    "### Autor: Silvia García Hernández                                                                    \n",
    "### Fecha: 27/04/2019\n",
    "\n",
    "Search strategy implemented Plus-3 Minus-2 and MIFS as Evaluation Function"
   ]
  },
  {
   "cell_type": "code",
   "execution_count": 27,
   "metadata": {},
   "outputs": [],
   "source": [
    "import pandas as pd\n",
    "import numpy as np\n",
    "import matplotlib.pyplot as plt\n",
    "import math\n",
    "\n",
    "from sklearn.model_selection  import train_test_split\n",
    "from sklearn.metrics import classification_report\n",
    "from sklearn.metrics import precision_recall_curve\n",
    "from sklearn.metrics import average_precision_score\n",
    "from sklearn.metrics import roc_curve, auc, precision_score, recall_score\n",
    "from sklearn.decomposition import PCA\n",
    "from sklearn.svm import SVC\n",
    "from sklearn import metrics\n",
    "from sklearn import svm\n",
    "\n",
    "from sklearn.feature_selection import mutual_info_classif\n",
    "from sklearn.feature_selection import mutual_info_regression"
   ]
  },
  {
   "cell_type": "markdown",
   "metadata": {},
   "source": [
    "### Lectura de datos y definición de atributos y clase\n",
    "#### Como se puede observar, el dataset a tratar consta de 11 atributos y 7 clases (clase 3 a la 9 en calidad de vino). También se sabe que son 4898 muestras."
   ]
  },
  {
   "cell_type": "code",
   "execution_count": 2,
   "metadata": {},
   "outputs": [
    {
     "data": {
      "text/html": [
       "<div>\n",
       "<style scoped>\n",
       "    .dataframe tbody tr th:only-of-type {\n",
       "        vertical-align: middle;\n",
       "    }\n",
       "\n",
       "    .dataframe tbody tr th {\n",
       "        vertical-align: top;\n",
       "    }\n",
       "\n",
       "    .dataframe thead th {\n",
       "        text-align: right;\n",
       "    }\n",
       "</style>\n",
       "<table border=\"1\" class=\"dataframe\">\n",
       "  <thead>\n",
       "    <tr style=\"text-align: right;\">\n",
       "      <th></th>\n",
       "      <th>fixed acidity</th>\n",
       "      <th>volatile acidity</th>\n",
       "      <th>citric acid</th>\n",
       "      <th>residual sugar</th>\n",
       "      <th>chlorides</th>\n",
       "      <th>free sulfur dioxide</th>\n",
       "      <th>total sulfur dioxide</th>\n",
       "      <th>density</th>\n",
       "      <th>pH</th>\n",
       "      <th>sulphates</th>\n",
       "      <th>alcohol</th>\n",
       "      <th>quality</th>\n",
       "    </tr>\n",
       "  </thead>\n",
       "  <tbody>\n",
       "    <tr>\n",
       "      <th>0</th>\n",
       "      <td>7.0</td>\n",
       "      <td>0.27</td>\n",
       "      <td>0.36</td>\n",
       "      <td>20.7</td>\n",
       "      <td>0.045</td>\n",
       "      <td>45.0</td>\n",
       "      <td>170.0</td>\n",
       "      <td>1.0010</td>\n",
       "      <td>3.00</td>\n",
       "      <td>0.45</td>\n",
       "      <td>8.8</td>\n",
       "      <td>6</td>\n",
       "    </tr>\n",
       "    <tr>\n",
       "      <th>1</th>\n",
       "      <td>6.3</td>\n",
       "      <td>0.30</td>\n",
       "      <td>0.34</td>\n",
       "      <td>1.6</td>\n",
       "      <td>0.049</td>\n",
       "      <td>14.0</td>\n",
       "      <td>132.0</td>\n",
       "      <td>0.9940</td>\n",
       "      <td>3.30</td>\n",
       "      <td>0.49</td>\n",
       "      <td>9.5</td>\n",
       "      <td>6</td>\n",
       "    </tr>\n",
       "    <tr>\n",
       "      <th>2</th>\n",
       "      <td>8.1</td>\n",
       "      <td>0.28</td>\n",
       "      <td>0.40</td>\n",
       "      <td>6.9</td>\n",
       "      <td>0.050</td>\n",
       "      <td>30.0</td>\n",
       "      <td>97.0</td>\n",
       "      <td>0.9951</td>\n",
       "      <td>3.26</td>\n",
       "      <td>0.44</td>\n",
       "      <td>10.1</td>\n",
       "      <td>6</td>\n",
       "    </tr>\n",
       "    <tr>\n",
       "      <th>3</th>\n",
       "      <td>7.2</td>\n",
       "      <td>0.23</td>\n",
       "      <td>0.32</td>\n",
       "      <td>8.5</td>\n",
       "      <td>0.058</td>\n",
       "      <td>47.0</td>\n",
       "      <td>186.0</td>\n",
       "      <td>0.9956</td>\n",
       "      <td>3.19</td>\n",
       "      <td>0.40</td>\n",
       "      <td>9.9</td>\n",
       "      <td>6</td>\n",
       "    </tr>\n",
       "    <tr>\n",
       "      <th>4</th>\n",
       "      <td>7.2</td>\n",
       "      <td>0.23</td>\n",
       "      <td>0.32</td>\n",
       "      <td>8.5</td>\n",
       "      <td>0.058</td>\n",
       "      <td>47.0</td>\n",
       "      <td>186.0</td>\n",
       "      <td>0.9956</td>\n",
       "      <td>3.19</td>\n",
       "      <td>0.40</td>\n",
       "      <td>9.9</td>\n",
       "      <td>6</td>\n",
       "    </tr>\n",
       "  </tbody>\n",
       "</table>\n",
       "</div>"
      ],
      "text/plain": [
       "   fixed acidity  volatile acidity  citric acid  residual sugar  chlorides  \\\n",
       "0            7.0              0.27         0.36            20.7      0.045   \n",
       "1            6.3              0.30         0.34             1.6      0.049   \n",
       "2            8.1              0.28         0.40             6.9      0.050   \n",
       "3            7.2              0.23         0.32             8.5      0.058   \n",
       "4            7.2              0.23         0.32             8.5      0.058   \n",
       "\n",
       "   free sulfur dioxide  total sulfur dioxide  density    pH  sulphates  \\\n",
       "0                 45.0                 170.0   1.0010  3.00       0.45   \n",
       "1                 14.0                 132.0   0.9940  3.30       0.49   \n",
       "2                 30.0                  97.0   0.9951  3.26       0.44   \n",
       "3                 47.0                 186.0   0.9956  3.19       0.40   \n",
       "4                 47.0                 186.0   0.9956  3.19       0.40   \n",
       "\n",
       "   alcohol  quality  \n",
       "0      8.8        6  \n",
       "1      9.5        6  \n",
       "2     10.1        6  \n",
       "3      9.9        6  \n",
       "4      9.9        6  "
      ]
     },
     "execution_count": 2,
     "metadata": {},
     "output_type": "execute_result"
    }
   ],
   "source": [
    "datos_original = pd.read_csv(\"winequality-white.csv\", sep = \";\")    # Lectura archivo .csv\n",
    "\n",
    "datos_original.head()    "
   ]
  },
  {
   "cell_type": "code",
   "execution_count": 3,
   "metadata": {},
   "outputs": [],
   "source": [
    "datos = np.copy(datos_original)                                     # Formato array del .csv\n",
    "X = datos[:,:-1]                                                    # Atributos\n",
    "y = datos[:,-1]                                                     # Clase"
   ]
  },
  {
   "cell_type": "markdown",
   "metadata": {},
   "source": [
    "#### La cantidad de muestras por clase será el siguiente:"
   ]
  },
  {
   "cell_type": "code",
   "execution_count": 4,
   "metadata": {},
   "outputs": [
    {
     "data": {
      "text/html": [
       "<div>\n",
       "<style scoped>\n",
       "    .dataframe tbody tr th:only-of-type {\n",
       "        vertical-align: middle;\n",
       "    }\n",
       "\n",
       "    .dataframe tbody tr th {\n",
       "        vertical-align: top;\n",
       "    }\n",
       "\n",
       "    .dataframe thead th {\n",
       "        text-align: right;\n",
       "    }\n",
       "</style>\n",
       "<table border=\"1\" class=\"dataframe\">\n",
       "  <thead>\n",
       "    <tr style=\"text-align: right;\">\n",
       "      <th></th>\n",
       "      <th>fixed acidity</th>\n",
       "      <th>volatile acidity</th>\n",
       "      <th>citric acid</th>\n",
       "      <th>residual sugar</th>\n",
       "      <th>chlorides</th>\n",
       "      <th>free sulfur dioxide</th>\n",
       "      <th>total sulfur dioxide</th>\n",
       "      <th>density</th>\n",
       "      <th>pH</th>\n",
       "      <th>sulphates</th>\n",
       "      <th>alcohol</th>\n",
       "    </tr>\n",
       "    <tr>\n",
       "      <th>quality</th>\n",
       "      <th></th>\n",
       "      <th></th>\n",
       "      <th></th>\n",
       "      <th></th>\n",
       "      <th></th>\n",
       "      <th></th>\n",
       "      <th></th>\n",
       "      <th></th>\n",
       "      <th></th>\n",
       "      <th></th>\n",
       "      <th></th>\n",
       "    </tr>\n",
       "  </thead>\n",
       "  <tbody>\n",
       "    <tr>\n",
       "      <th>3</th>\n",
       "      <td>20</td>\n",
       "      <td>20</td>\n",
       "      <td>20</td>\n",
       "      <td>20</td>\n",
       "      <td>20</td>\n",
       "      <td>20</td>\n",
       "      <td>20</td>\n",
       "      <td>20</td>\n",
       "      <td>20</td>\n",
       "      <td>20</td>\n",
       "      <td>20</td>\n",
       "    </tr>\n",
       "    <tr>\n",
       "      <th>4</th>\n",
       "      <td>163</td>\n",
       "      <td>163</td>\n",
       "      <td>163</td>\n",
       "      <td>163</td>\n",
       "      <td>163</td>\n",
       "      <td>163</td>\n",
       "      <td>163</td>\n",
       "      <td>163</td>\n",
       "      <td>163</td>\n",
       "      <td>163</td>\n",
       "      <td>163</td>\n",
       "    </tr>\n",
       "    <tr>\n",
       "      <th>5</th>\n",
       "      <td>1457</td>\n",
       "      <td>1457</td>\n",
       "      <td>1457</td>\n",
       "      <td>1457</td>\n",
       "      <td>1457</td>\n",
       "      <td>1457</td>\n",
       "      <td>1457</td>\n",
       "      <td>1457</td>\n",
       "      <td>1457</td>\n",
       "      <td>1457</td>\n",
       "      <td>1457</td>\n",
       "    </tr>\n",
       "    <tr>\n",
       "      <th>6</th>\n",
       "      <td>2198</td>\n",
       "      <td>2198</td>\n",
       "      <td>2198</td>\n",
       "      <td>2198</td>\n",
       "      <td>2198</td>\n",
       "      <td>2198</td>\n",
       "      <td>2198</td>\n",
       "      <td>2198</td>\n",
       "      <td>2198</td>\n",
       "      <td>2198</td>\n",
       "      <td>2198</td>\n",
       "    </tr>\n",
       "    <tr>\n",
       "      <th>7</th>\n",
       "      <td>880</td>\n",
       "      <td>880</td>\n",
       "      <td>880</td>\n",
       "      <td>880</td>\n",
       "      <td>880</td>\n",
       "      <td>880</td>\n",
       "      <td>880</td>\n",
       "      <td>880</td>\n",
       "      <td>880</td>\n",
       "      <td>880</td>\n",
       "      <td>880</td>\n",
       "    </tr>\n",
       "    <tr>\n",
       "      <th>8</th>\n",
       "      <td>175</td>\n",
       "      <td>175</td>\n",
       "      <td>175</td>\n",
       "      <td>175</td>\n",
       "      <td>175</td>\n",
       "      <td>175</td>\n",
       "      <td>175</td>\n",
       "      <td>175</td>\n",
       "      <td>175</td>\n",
       "      <td>175</td>\n",
       "      <td>175</td>\n",
       "    </tr>\n",
       "    <tr>\n",
       "      <th>9</th>\n",
       "      <td>5</td>\n",
       "      <td>5</td>\n",
       "      <td>5</td>\n",
       "      <td>5</td>\n",
       "      <td>5</td>\n",
       "      <td>5</td>\n",
       "      <td>5</td>\n",
       "      <td>5</td>\n",
       "      <td>5</td>\n",
       "      <td>5</td>\n",
       "      <td>5</td>\n",
       "    </tr>\n",
       "  </tbody>\n",
       "</table>\n",
       "</div>"
      ],
      "text/plain": [
       "         fixed acidity  volatile acidity  citric acid  residual sugar  \\\n",
       "quality                                                                 \n",
       "3                   20                20           20              20   \n",
       "4                  163               163          163             163   \n",
       "5                 1457              1457         1457            1457   \n",
       "6                 2198              2198         2198            2198   \n",
       "7                  880               880          880             880   \n",
       "8                  175               175          175             175   \n",
       "9                    5                 5            5               5   \n",
       "\n",
       "         chlorides  free sulfur dioxide  total sulfur dioxide  density    pH  \\\n",
       "quality                                                                        \n",
       "3               20                   20                    20       20    20   \n",
       "4              163                  163                   163      163   163   \n",
       "5             1457                 1457                  1457     1457  1457   \n",
       "6             2198                 2198                  2198     2198  2198   \n",
       "7              880                  880                   880      880   880   \n",
       "8              175                  175                   175      175   175   \n",
       "9                5                    5                     5        5     5   \n",
       "\n",
       "         sulphates  alcohol  \n",
       "quality                      \n",
       "3               20       20  \n",
       "4              163      163  \n",
       "5             1457     1457  \n",
       "6             2198     2198  \n",
       "7              880      880  \n",
       "8              175      175  \n",
       "9                5        5  "
      ]
     },
     "execution_count": 4,
     "metadata": {},
     "output_type": "execute_result"
    }
   ],
   "source": [
    "datos_original.groupby(['quality']).count()"
   ]
  },
  {
   "cell_type": "markdown",
   "metadata": {},
   "source": [
    "### Comentario previo\n",
    "#### Antes de empezar a presentar el algoritmo de selección de atributos implementado, y dado que se va a basar en la medida de Información Mutua, se ha visto conveniente hacer un primer análisis de cuáles atributos dan mayor valor para esta medida, ya que significará que existe una mayor dependencia entre las variables analizadas. En este primer caso, y dado que en esto se va a basar el algoritmo para seleccionar el primer atributo, se va a calcular este valor para cada atributo en relación con la clase. Los resultados obtenidos se exponen a continuación:"
   ]
  },
  {
   "cell_type": "code",
   "execution_count": 5,
   "metadata": {},
   "outputs": [
    {
     "data": {
      "text/plain": [
       "array([0.02167977, 0.04592691, 0.0514174 , 0.08227419, 0.06945396,\n",
       "       0.05048163, 0.09089578, 0.17890969, 0.02580518, 0.03052237,\n",
       "       0.15435703])"
      ]
     },
     "execution_count": 5,
     "metadata": {},
     "output_type": "execute_result"
    }
   ],
   "source": [
    "I = mutual_info_classif(X, y)\n",
    "I"
   ]
  },
  {
   "cell_type": "markdown",
   "metadata": {},
   "source": [
    "#### Como se puede observar, los dos atributos que mayor relación guardan, -según esta medida-, con la clase son la densidad (7) y el alcohol (10). El que será escogido como primer atributo en el algoritmo de selección es este primero (densidad)."
   ]
  },
  {
   "cell_type": "markdown",
   "metadata": {},
   "source": [
    "### Algoritmo MIFS\n",
    "\n",
    "#### Se ha implementado el algoritmo MIFS para comparar resultados con el método de selección de atributos del presente trabajo. Este algoritmo (MIFS) consiste en SFS como estrategia de búsqueda e Información Mutua como función de evaluación. Al estar basado en SFS, comienza con un espacio vacío de atributos y se van añadiendo, de 1 en 1, los que presenten un máximo en la medida seleccionada. Se ha fijado a 5 el número de atributos a determinar.\n",
    "\n",
    "##### Fuente: http://citeseerx.ist.psu.edu/viewdoc/download?doi=10.1.1.74.7629&rep=rep1&type=pdf"
   ]
  },
  {
   "cell_type": "code",
   "execution_count": 6,
   "metadata": {},
   "outputs": [],
   "source": [
    "def MIFS(datos, X, y, nA, beta):\n",
    "\n",
    "    F = list(range(0, 11))\n",
    "    S = []\n",
    "    \n",
    "    I = mutual_info_classif(X, y)\n",
    "    F1 = np.argmax(I)\n",
    "\n",
    "    S.append(F[F1])\n",
    "    del F[F1]\n",
    "    I = np.delete(I,F1)\n",
    "\n",
    "    k = np.zeros(len(F))\n",
    "    \n",
    "    for i in range(nA-1):\n",
    "\n",
    "        Xi = datos[:,F]\n",
    "        Xj = np.ravel(datos[:,S[i]])\n",
    "\n",
    "        Iij = mutual_info_regression(Xi, Xj)\n",
    "\n",
    "        k = np.vstack((k,Iij))\n",
    "\n",
    "        sumAll = k.sum(axis = 0)\n",
    "        Xs = np.argmax(I - beta*sumAll)\n",
    "\n",
    "        S.append(F[Xs])\n",
    "        del F[Xs]\n",
    "\n",
    "        I = np.delete(I,Xs)\n",
    "        Iij = np.delete(Iij, Xs)\n",
    "        k = np.delete(k, (Xs), axis = 1)\n",
    "        \n",
    "    return S"
   ]
  },
  {
   "cell_type": "code",
   "execution_count": 7,
   "metadata": {},
   "outputs": [
    {
     "data": {
      "text/plain": [
       "[7, 1, 0, 9, 2]"
      ]
     },
     "execution_count": 7,
     "metadata": {},
     "output_type": "execute_result"
    }
   ],
   "source": [
    "SMIFS = MIFS(datos, X, y, 5, 0.75)\n",
    "SMIFS"
   ]
  },
  {
   "cell_type": "markdown",
   "metadata": {},
   "source": [
    "#### En SMIFS se han guardado los 5 atributos seleccionados por el algoritmo MIFS."
   ]
  },
  {
   "cell_type": "markdown",
   "metadata": {},
   "source": [
    "## Algoritmo implementado: Plus-3 Minus-2 + Información Mutua"
   ]
  },
  {
   "cell_type": "markdown",
   "metadata": {},
   "source": [
    "#### A continuación se va a presentar el algoritmo implementado. Éste presenta, en la etapa de estrategia de búsqueda, el conocido como Plus-l-Minus-r (LRS), mientras que, como función de evaluación, se ha usado la misma que en el algoritmo MIFS; la Información Mutua. De esta forma, se han implementados dos funciones; una primera denominada 'busqueda(P, M)' y una última llamada 'medida(F, S)'. Los parámetros de entrada de la primera son los valores de avance y retroceso respectivamente en la estrategia de búsqueda, mientras que los argumentos de la segunda función son las listas que contienen los atributos no-seleccionados y seleccionados."
   ]
  },
  {
   "cell_type": "markdown",
   "metadata": {},
   "source": [
    "### Función 'medida(F, S, beta)'\n",
    "#### Aquí se ha implementado la medida utilizada en el algoritmo MIFS. Esta medida consiste en determinar la Información Mutua basada en la Entropía. Se tienen dos valores; uno entre el atributo y la clase I(X,Y), y otro entre dos atributos I(Xi,Xj), siendo Xi los atributos no-seleccionados y Xj los seleccionados. La idea de esta medida consiste en restarle al valor I(X,Y) de cada atributo el calculado con I(Xi,Xj), de tal forma que se seleccionen atributos que tengan una gran dependencia con la clase, pero que, a su vez, aporten información nueva al conjunto de atributos seleccionados. Es por esto que, con esta resta, aunque un atributo tenga un valor de I(X,Y) muy alto, si también posee una dependencia grande otro atributo ya seleccionado, el cómputo global decrecerá, y no será seleccionado dicho atributo.\n",
    "#### En el caso de esta práctica se tiene un ejemplo de lo anteriormente descrito, ya que, como se mencionó al inicio, los dos atributos que más dependencia guardan con la clase, son la densidad y el alcohol. Dado que el atributo 'densidad' posee un valor de I(X,Y) mayor, sale seleccionado, mientras que el atributo 'alcohol', aunque tiene un valor de I(X,Y) muy alto también, al estar ya el atributo 'densidad' seleccionado, no entra en la lista final, ya que también posee un valor de dependencia alto con este último atributo.\n",
    "#### Por último, se ha añadido el factor beta al algoritmo, tal como lo plantearon los autores de MIFS, y se ha ejecutado esta función para valores de beta iguales a 0.5, 0.75 y 1, debido a que se recomendaban valores entre 0.5 y 1. En general, los atributos seleccionados han sido idénticos para los tres casos.\n",
    "#### La función devuelve un vector que contiene el resultado de realizar la operación I(Xi,Y) - I(Xi,Xj) para cada atributo localizado en la lista F, por lo que sabiendo cuál es el máximo o mínimo de esta lista se puede determinar qué atributo añadir o eliminar."
   ]
  },
  {
   "cell_type": "code",
   "execution_count": 8,
   "metadata": {},
   "outputs": [],
   "source": [
    "def medida(F, S, beta):\n",
    "    \n",
    "    k = np.zeros(len(F))                                                    # Matriz de Transinformación\n",
    "    X = datos[:,F]\n",
    "    y = datos[:,-1]\n",
    "    \n",
    "    I = mutual_info_classif(X, y)\n",
    "    \n",
    "    if not S:\n",
    "        return I\n",
    "    \n",
    "    Xi = datos[:,F]\n",
    "    \n",
    "    for i in range(len(S)):\n",
    "        Xj = np.ravel(datos[:,S[i]])\n",
    "        Iij = mutual_info_regression(Xi, Xj)\n",
    "        k = np.vstack((k,Iij))                                               # Matriz de Transinformación\n",
    "        \n",
    "    sumAll = k.sum(axis = 0)\n",
    "    MI = I - beta*sumAll\n",
    "    \n",
    "    return MI"
   ]
  },
  {
   "cell_type": "markdown",
   "metadata": {},
   "source": [
    "### Función 'busqueda(P, M, nA)'\n",
    "#### Como se ha comentado, la estrategia de búsqueda del algoritmo implementado consistía en Plus-l-Minus-r (LRS), siendo los valores de 'l' y 'r', 3 y 2 respectivamente. Esto significa que se añadirán 3 atributos al conjunto de seleccionados y se eliminarán 2, hasta llegar a tener los cinco atributos finales. Para implementar esto se ha creado un bucle 'while' del que no se saldrá hasta que se alcancen los cinco atributos deseados. Dentro de este bucle se han introducido dos 'for'; uno para el Plus-3 y otro para el Minus-2. Se ha interpretado que los atributos hay que añadirlos o eliminarlos a la vez, por lo que el modus operandi de la función 'busqueda(P, M, nA)' es llamar a la función 'medida(P, S, beta)' y, una vez se tiene el vector con los valores de medida, se añaden o eliminan los 3 o 2 valores máximos, según se esté en una etapa u otra.\n",
    "#### Aquí cabe destacar dos temas a tener en cuenta. El primero es cuándo hay que seleccionar el máximo o el mínimo del vector que devuelve la función 'medida(P, S, beta)'. Se interpreta que, para la parte SFS, en la que se añaden atributos al conjunto de seleccionados, la medida basada en Información Mutua debe ser máxima, tal como dicta el algoritmo MIFS. Por otro lado, en sentido contrario, se interpreta que, en el paso de eliminación de atributos seleccionados, en el SBS, se debe buscar el mínimo del vector salida de la función medida, ya que lo que se quiere es quitar los atributos que menos dependencia tengan con la clase así como más información redundante den. En la práctica, en la resolución de este problema, se ha probado con ambos casos, obteniéndose mejores resultados para la eliminación de los 2 mínimos en el vector MI del SBS.\n",
    "#### El segundo tema a tener en cuenta es la variación de beta, tratada de forma superficial anteriormente. Para ambos casos también, para SBS con máximo y mínimo, se ha variado beta de 0.5 a 1 pasando por 0.75, y es aquí donde se han obtenido los mismos 5 atributos (aunque en diferente orden) en ambos casos, salvo para SBS máximo y beta 0.75, que es el conjunto de valores finales seleccionados, ya que, con él, se obtiene el mayor accuracy."
   ]
  },
  {
   "cell_type": "code",
   "execution_count": 10,
   "metadata": {},
   "outputs": [],
   "source": [
    "def busqueda(P, M, nA):\n",
    "\n",
    "    F = list(range(0, 11))\n",
    "    S = []\n",
    "        \n",
    "    while len(S) != nA:\n",
    "\n",
    "        MI = medida(F, S, 1)\n",
    "        \n",
    "        for i in range(P):\n",
    "            attrs = np.argmax(MI)\n",
    "            S.append(F[attrs])\n",
    "            del F[attrs]\n",
    "            MI = np.delete(MI, (attrs))\n",
    "            \n",
    "        MI = medida(S, F, 1)\n",
    "\n",
    "        for i in range(M):\n",
    "            attrs = np.argmin(MI)\n",
    "            F.append(S[attrs])\n",
    "            del S[attrs]\n",
    "            MI = np.delete(MI, (attrs))\n",
    "        \n",
    "    return S"
   ]
  },
  {
   "cell_type": "code",
   "execution_count": 11,
   "metadata": {},
   "outputs": [
    {
     "data": {
      "text/plain": [
       "[1, 0, 9, 4, 2]"
      ]
     },
     "execution_count": 11,
     "metadata": {},
     "output_type": "execute_result"
    }
   ],
   "source": [
    "SLRS = busqueda(3, 2, 5)\n",
    "SLRS"
   ]
  },
  {
   "cell_type": "markdown",
   "metadata": {},
   "source": [
    "#### En SLRS se han guardado los 5 atributos seleccionados por el algoritmo de la práctica."
   ]
  },
  {
   "cell_type": "markdown",
   "metadata": {},
   "source": [
    "## Valoración de resultados obtenidos\n",
    "\n",
    "### En este apartado se va a calcular el accuracy, recall, precision, curva ROC y área bajo la curva (AUC) de un clasificador a elegir donde las entradas sean los 5 atributos escogidos tanto por MIFS como por el algoritmo implementado. Por otro lado, se van a comparar estos resultados con los obtenidos por el mismo clasificador entrenado con los atributos que mantengan un 95% de variabilidad inicial, los cuales se seleccionarán por PCA. Por último, se adjuntará el valor de accuracy obtenido con los 11 atributos, para poder tener una idea de la calidad de los resultados."
   ]
  },
  {
   "cell_type": "markdown",
   "metadata": {},
   "source": [
    "#### Se va a convertir el dataset en biclásico para que sea más fácil calcular las medidas para evaluar los diferentes algoritmos de selección de atributos."
   ]
  },
  {
   "cell_type": "code",
   "execution_count": 12,
   "metadata": {},
   "outputs": [],
   "source": [
    "datos_original.loc[datos_original[\"quality\"] <= 5, \"quality\"] = 0\n",
    "datos_original.loc[datos_original[\"quality\"] > 5, \"quality\"] = 1\n",
    "\n",
    "datos = np.copy(datos_original)                                     # Formato array del .csv\n",
    "X = datos[:,:-1]                                                    # Atributos\n",
    "y = datos[:,-1]                                                     # Clase"
   ]
  },
  {
   "cell_type": "markdown",
   "metadata": {},
   "source": [
    "### Accuracy con 11 atributos y clasificador SVM"
   ]
  },
  {
   "cell_type": "code",
   "execution_count": 13,
   "metadata": {},
   "outputs": [
    {
     "data": {
      "text/plain": [
       "0.7443877551020408"
      ]
     },
     "execution_count": 13,
     "metadata": {},
     "output_type": "execute_result"
    }
   ],
   "source": [
    "X_train, X_test, y_train, y_test = train_test_split(X, y, test_size = 0.4, random_state = 42)\n",
    "\n",
    "svc = svm.SVC(gamma = \"auto\", C = 20, probability = True)\n",
    "svc.fit(X_train, y_train)\n",
    "y_pred = svc.predict(X_test)\n",
    "y_prob = svc.predict_proba(X_test)\n",
    "resultado_base = metrics.accuracy_score(y_pred, y_test) \n",
    "\n",
    "resultado_base"
   ]
  },
  {
   "cell_type": "markdown",
   "metadata": {},
   "source": [
    "### Accuracy con MIFS y clasificador SVM"
   ]
  },
  {
   "cell_type": "code",
   "execution_count": 14,
   "metadata": {},
   "outputs": [
    {
     "data": {
      "text/plain": [
       "0.6857142857142857"
      ]
     },
     "execution_count": 14,
     "metadata": {},
     "output_type": "execute_result"
    }
   ],
   "source": [
    "X_train_MIFS = X_train[:,SMIFS]\n",
    "X_test_MIFS = X_test[:,SMIFS]\n",
    "\n",
    "svc_MIFS = svm.SVC(gamma = \"auto\", C = 20, probability = True)\n",
    "svc_MIFS.fit(X_train_MIFS, y_train)\n",
    "y_pred_MIFS = svc_MIFS.predict(X_test_MIFS)\n",
    "y_prob_MIFS = svc_MIFS.predict_proba(X_test_MIFS)\n",
    "resultado_MIFS = metrics.accuracy_score(y_pred_MIFS, y_test) \n",
    "\n",
    "resultado_MIFS"
   ]
  },
  {
   "cell_type": "markdown",
   "metadata": {},
   "source": [
    "### Accuracy con LRS+MI y clasificador SVM"
   ]
  },
  {
   "cell_type": "code",
   "execution_count": 15,
   "metadata": {},
   "outputs": [
    {
     "data": {
      "text/plain": [
       "0.6908163265306122"
      ]
     },
     "execution_count": 15,
     "metadata": {},
     "output_type": "execute_result"
    }
   ],
   "source": [
    "X_train_LRS = X_train[:,SLRS]\n",
    "X_test_LRS = X_test[:,SLRS]\n",
    "\n",
    "svc_LRS = svm.SVC(gamma = \"auto\", C = 20, probability = True)\n",
    "svc_LRS.fit(X_train_LRS, y_train)\n",
    "y_pred_LRS = svc_LRS.predict(X_test_LRS)\n",
    "y_prob_LRS = svc_LRS.predict_proba(X_test_LRS)\n",
    "resultado_LRS = metrics.accuracy_score(y_pred_LRS, y_test) \n",
    "\n",
    "resultado_LRS"
   ]
  },
  {
   "cell_type": "markdown",
   "metadata": {},
   "source": [
    "### Accuracy con PCA y clasificador SVM\n",
    "#### Para entrenar el clasificador SVC con las componentes elegidas mediante PCA se va a hacer uso de la información de la varianza, de tal forma que se elijan tantos atributos como los que dejen un 95% de variabilidad inicial. Se ha efectuado esta medida y se ha llegado a la conclusión que el número de atributos que cumplen esta condición son los dos primeros. Los valores de información que contienen cada uno se ilustran a continuación."
   ]
  },
  {
   "cell_type": "code",
   "execution_count": 16,
   "metadata": {},
   "outputs": [
    {
     "name": "stdout",
     "output_type": "stream",
     "text": [
      "[91.01970107  7.83144712] %\n"
     ]
    },
    {
     "data": {
      "text/plain": [
       "0.6821428571428572"
      ]
     },
     "execution_count": 16,
     "metadata": {},
     "output_type": "execute_result"
    }
   ],
   "source": [
    "pca = PCA(n_components = 2)\n",
    "pca.fit(X_train)\n",
    "\n",
    "X_t_train = pca.transform(X_train)\n",
    "X_t_test = pca.transform(X_test)\n",
    "\n",
    "svc_PCA = svm.SVC(gamma = \"auto\", C = 20, probability = True)\n",
    "svc_PCA.fit(X_t_train, y_train)\n",
    "\n",
    "print(pca.explained_variance_ratio_*100, \"%\") \n",
    "\n",
    "y_pred_PCA = svc_PCA.predict(X_t_test)\n",
    "y_prob_PCA = svc_PCA.predict_proba(X_t_test)\n",
    "resultado_PCA = metrics.accuracy_score(y_pred_PCA, y_test) \n",
    "\n",
    "resultado_PCA"
   ]
  },
  {
   "cell_type": "markdown",
   "metadata": {},
   "source": [
    "### Ploteo de los resultados de Accuracy obtenidos"
   ]
  },
  {
   "cell_type": "code",
   "execution_count": 17,
   "metadata": {},
   "outputs": [
    {
     "data": {
      "image/png": "[encoded data removed]",
      "text/plain": [
       "<Figure size 432x288 with 1 Axes>"
      ]
     },
     "metadata": {
      "needs_background": "light"
     },
     "output_type": "display_data"
    }
   ],
   "source": [
    "nom_met = [\"Real\", \"MIFS\", \"LRS+MI\", \"PCA\"]\n",
    "ACC = [resultado_base, resultado_MIFS, resultado_LRS, resultado_PCA]\n",
    "\n",
    "figACCdata = plt.figure()\n",
    "plt.title(\"Evaluación de los métodos: Accuracy\")\n",
    "plt.plot(nom_met, ACC, 'xr')\n",
    "plt.xlabel(\"Métodos evaluados\")\n",
    "plt.ylabel(\"Accuracy\")\n",
    "plt.grid()"
   ]
  },
  {
   "cell_type": "markdown",
   "metadata": {},
   "source": [
    "### Relación entre la medida Información Mutua y el valor de Accuracy"
   ]
  },
  {
   "cell_type": "code",
   "execution_count": 18,
   "metadata": {},
   "outputs": [],
   "source": [
    "ACC_Attr = []\n",
    "\n",
    "for i in range(11):\n",
    "    X_train_attr = X_train[:,i]\n",
    "    X_train_attr = np.reshape(X_train_attr,(-1, 1))\n",
    "    X_test_attr = [X_test[:,i]]\n",
    "    X_test_attr = np.reshape(X_test_attr,(-1, 1))\n",
    "    \n",
    "    svc.fit(X_train_attr, y_train)\n",
    "    y_pred_attr = svc.predict(X_test_attr)\n",
    "    y_prob_attr = svc.predict_proba(X_test_attr)\n",
    "    resultado_attr = metrics.accuracy_score(y_pred_attr, y_test) \n",
    "    \n",
    "    ACC_Attr.append(resultado_attr)"
   ]
  },
  {
   "cell_type": "code",
   "execution_count": 19,
   "metadata": {},
   "outputs": [
    {
     "data": {
      "image/png": "[encoded data removed]",
      "text/plain": [
       "<Figure size 432x288 with 1 Axes>"
      ]
     },
     "metadata": {
      "needs_background": "light"
     },
     "output_type": "display_data"
    }
   ],
   "source": [
    "nom_col = []\n",
    "maxACC_Attr = np.max(ACC_Attr)\n",
    "maxI = np.max(I)\n",
    "\n",
    "for w in range(11):\n",
    "    datos_original_atributos = datos_original.columns[w]\n",
    "    nom_col.append(datos_original_atributos)\n",
    "    \n",
    "figACCallData = plt.figure()\n",
    "plt.title(\"Comparación entre MI y ACC\")\n",
    "plt.plot(nom_col, ACC_Attr/maxACC_Attr, 'go-')\n",
    "plt.plot(nom_col, I/maxI, 'ro-')\n",
    "plt.xlabel(\"Atributos iniciales\")\n",
    "plt.xticks(rotation = 90)\n",
    "plt.legend([\"ACC\", \"MI\"])\n",
    "plt.grid()"
   ]
  },
  {
   "cell_type": "markdown",
   "metadata": {},
   "source": [
    "### Precision y Recall"
   ]
  },
  {
   "cell_type": "code",
   "execution_count": 37,
   "metadata": {},
   "outputs": [
    {
     "name": "stdout",
     "output_type": "stream",
     "text": [
      "Precision score: 0.80\n",
      "Precision score MIFS: 0.69\n",
      "Precision score LRS: 0.69\n",
      "Precision score PCA: 0.75\n",
      "Recall score: 0.83\n",
      "Recall score MIFS: 0.98\n",
      "Recall score LRS: 0.98\n",
      "Recall score PCA: 0.79\n"
     ]
    },
    {
     "data": {
      "image/png": "[encoded data removed]",
      "text/plain": [
       "<Figure size 432x288 with 1 Axes>"
      ]
     },
     "metadata": {
      "needs_background": "light"
     },
     "output_type": "display_data"
    }
   ],
   "source": [
    "precision_value = precision_score(y_test, y_pred)\n",
    "precision_MIFS_value = precision_score(y_test, y_pred_MIFS)\n",
    "precision_LRS_value = precision_score(y_test, y_pred_LRS)\n",
    "precision_PCA_value = precision_score(y_test, y_pred_PCA)\n",
    "\n",
    "recall_value = recall_score(y_test, y_pred)\n",
    "recall_MIFS_value = recall_score(y_test, y_pred_MIFS)\n",
    "recall_LRS_value = recall_score(y_test, y_pred_LRS)\n",
    "recall_PCA_value = recall_score(y_test, y_pred_PCA)\n",
    "\n",
    "print('Precision score: {0:0.2f}'.format(precision_value))\n",
    "print('Precision score MIFS: {0:0.2f}'.format(precision_MIFS_value))\n",
    "print('Precision score LRS: {0:0.2f}'.format(precision_LRS_value))\n",
    "print('Precision score PCA: {0:0.2f}'.format(precision_PCA_value))\n",
    "\n",
    "print('Recall score: {0:0.2f}'.format(recall_value))\n",
    "print('Recall score MIFS: {0:0.2f}'.format(recall_MIFS_value))\n",
    "print('Recall score LRS: {0:0.2f}'.format(recall_LRS_value))\n",
    "print('Recall score PCA: {0:0.2f}'.format(recall_PCA_value))\n",
    "\n",
    "precision = [precision_value, precision_MIFS_value, precision_LRS_value, precision_PCA_value]\n",
    "recall = [recall_value, recall_MIFS_value, recall_LRS_value, recall_PCA_value]\n",
    "\n",
    "nom_met = [\"Real\", \"MIFS\", \"LRS+MI\", \"PCA\"]\n",
    "\n",
    "figACCdata = plt.figure()\n",
    "plt.title(\"Evaluación de los métodos: Precision, Recall\")\n",
    "plt.plot(nom_met, precision, 'xr')\n",
    "plt.plot(nom_met, recall, 'xg')\n",
    "plt.xlabel(\"Métodos evaluados\")\n",
    "plt.ylabel(\"Value\")\n",
    "plt.legend([\"Precision\", \"Recall\"])\n",
    "plt.grid()"
   ]
  },
  {
   "cell_type": "markdown",
   "metadata": {},
   "source": [
    "#### Dado que el Recall es muy alto en los algoritmos MIFS y LRS+MI y el valor de Precision, por otro lado, es menor, se puede sacar en conclusión que estos métodos clasifican demasiados casos como positivos, esto es, no solo clasifican como positivos casi la totalidad real de positivos que hay en el dataset (Recall de 98%), sino que, además, clasifican bastantes casos negativos como positivos (Precision 68%), concretamente, han clasificado un 32% de casos negativos como positivos, y solo un 2% de los positivos los han clasificado como negativos. Por lo que, ambos son buenos métodos para encontrar los positivos reales de un dataset, con la contraposición de que tomen como positivos, también, algunos casos negativos.\n",
    "\n",
    "#### En cuanto a PCA, cabe decir que mejora los resultados obtenidos con el clasificador SVM y la totalidad de los atributos, pero no en demasía, obteniéndose valores similares de Precision y Recall, por lo que no hay una tendencia principal que comentar."
   ]
  },
  {
   "cell_type": "markdown",
   "metadata": {},
   "source": [
    "### Curva ROC y área bajo la curva (AUC)"
   ]
  },
  {
   "cell_type": "code",
   "execution_count": 22,
   "metadata": {},
   "outputs": [],
   "source": [
    "fpr, tpr, _ = metrics.roc_curve(y_test, y_prob[:,1])\n",
    "fpr_MIFS, tpr_MIFS, _ = metrics.roc_curve(y_test, y_prob_MIFS[:,1])\n",
    "fpr_LRS, tpr_LRS, _ = metrics.roc_curve(y_test, y_prob_LRS[:,1])\n",
    "fpr_PCA, tpr_PCA, _ = metrics.roc_curve(y_test, y_prob_PCA[:,1])\n",
    "\n",
    "AUC = metrics.auc(fpr, tpr)\n",
    "AUC_MIFS = metrics.auc(fpr_MIFS, tpr_MIFS)\n",
    "AUC_LRS = metrics.auc(fpr_LRS, tpr_LRS)\n",
    "AUC_PCA = metrics.auc(fpr_PCA, tpr_PCA)"
   ]
  },
  {
   "cell_type": "code",
   "execution_count": 23,
   "metadata": {},
   "outputs": [
    {
     "data": {
      "image/png": "[encoded data removed]",
      "text/plain": [
       "<Figure size 432x288 with 1 Axes>"
      ]
     },
     "metadata": {
      "needs_background": "light"
     },
     "output_type": "display_data"
    }
   ],
   "source": [
    "figROC = plt.figure()\n",
    "plt.title(\"Evaluación de los métodos: ROC, AUC\")\n",
    "plt.plot(fpr,tpr,'b-', fpr_MIFS, tpr_MIFS, 'g-', fpr_LRS, tpr_LRS, 'r-', fpr_PCA, tpr_PCA, 'y-')\n",
    "plt.xlabel(\"FPR\")\n",
    "plt.ylabel(\"TPR\")\n",
    "plt.legend([\"Real (area = %0.2f)\" % AUC, \"MIFS (area = %0.2f)\" % AUC_MIFS, \n",
    "            \"LRS+MI (area = %0.2f)\" % AUC_LRS, \"PCA (area = %0.2f)\" % AUC_PCA])\n",
    "plt.grid()"
   ]
  }
 ],
 "metadata": {
  "kernelspec": {
   "display_name": "Python 3 (ipykernel)",
   "language": "python",
   "name": "python3"
  },
  "language_info": {
   "codemirror_mode": {
    "name": "ipython",
    "version": 3
   },
   "file_extension": ".py",
   "mimetype": "text/x-python",
   "name": "python",
   "nbconvert_exporter": "python",
   "pygments_lexer": "ipython3",
   "version": "3.9.12"
  }
 },
 "nbformat": 4,
 "nbformat_minor": 2
}
